{
  "nbformat": 4,
  "nbformat_minor": 0,
  "metadata": {
    "colab": {
      "provenance": []
    },
    "kernelspec": {
      "name": "python3",
      "display_name": "Python 3"
    },
    "language_info": {
      "name": "python"
    }
  },
  "cells": [
    {
      "cell_type": "code",
      "source": [
        "# ✅ Install required packages\n",
        "!pip install transformers sentencepiece keybert -q\n",
        "!pip install -U sentence-transformers -q\n"
      ],
      "metadata": {
        "colab": {
          "base_uri": "https://localhost:8080/"
        },
        "id": "WvZROfuZWUhD",
        "outputId": "3765d206-e21f-4b0e-ffc1-92dd8cd056d1"
      },
      "execution_count": 18,
      "outputs": [
        {
          "output_type": "stream",
          "name": "stdout",
          "text": [
            "\u001b[33mWARNING: Ignoring invalid distribution ~vidia-cublas-cu12 (/usr/local/lib/python3.11/dist-packages)\u001b[0m\u001b[33m\n",
            "\u001b[0m\u001b[33mWARNING: Ignoring invalid distribution ~vidia-cublas-cu12 (/usr/local/lib/python3.11/dist-packages)\u001b[0m\u001b[33m\n",
            "\u001b[0m\u001b[33mWARNING: Ignoring invalid distribution ~vidia-cublas-cu12 (/usr/local/lib/python3.11/dist-packages)\u001b[0m\u001b[33m\n",
            "\u001b[0m\u001b[33m    WARNING: Ignoring invalid distribution ~vidia-cublas-cu12 (/usr/local/lib/python3.11/dist-packages)\u001b[0m\u001b[33m\n",
            "\u001b[0m\u001b[33m    WARNING: Ignoring invalid distribution ~vidia-cublas-cu12 (/usr/local/lib/python3.11/dist-packages)\u001b[0m\u001b[33m\n",
            "\u001b[0m\u001b[33m    WARNING: Ignoring invalid distribution ~vidia-cublas-cu12 (/usr/local/lib/python3.11/dist-packages)\u001b[0m\u001b[33m\n",
            "\u001b[0m\u001b[33mWARNING: Ignoring invalid distribution ~vidia-cublas-cu12 (/usr/local/lib/python3.11/dist-packages)\u001b[0m\u001b[33m\n",
            "\u001b[0m\u001b[33mWARNING: Ignoring invalid distribution ~vidia-cublas-cu12 (/usr/local/lib/python3.11/dist-packages)\u001b[0m\u001b[33m\n",
            "\u001b[0m\u001b[33mWARNING: Ignoring invalid distribution ~vidia-cublas-cu12 (/usr/local/lib/python3.11/dist-packages)\u001b[0m\u001b[33m\n",
            "\u001b[0m\u001b[33mWARNING: Ignoring invalid distribution ~vidia-cublas-cu12 (/usr/local/lib/python3.11/dist-packages)\u001b[0m\u001b[33m\n",
            "\u001b[0m\u001b[33mWARNING: Ignoring invalid distribution ~vidia-cublas-cu12 (/usr/local/lib/python3.11/dist-packages)\u001b[0m\u001b[33m\n",
            "\u001b[0m\u001b[33mWARNING: Ignoring invalid distribution ~vidia-cublas-cu12 (/usr/local/lib/python3.11/dist-packages)\u001b[0m\u001b[33m\n",
            "\u001b[0m\u001b[33mWARNING: Ignoring invalid distribution ~vidia-cublas-cu12 (/usr/local/lib/python3.11/dist-packages)\u001b[0m\u001b[33m\n",
            "\u001b[0m\u001b[33mWARNING: Ignoring invalid distribution ~vidia-cublas-cu12 (/usr/local/lib/python3.11/dist-packages)\u001b[0m\u001b[33m\n",
            "\u001b[0m\u001b[33mWARNING: Ignoring invalid distribution ~vidia-cublas-cu12 (/usr/local/lib/python3.11/dist-packages)\u001b[0m\u001b[33m\n",
            "\u001b[0m"
          ]
        }
      ]
    },
    {
      "cell_type": "code",
      "execution_count": 24,
      "metadata": {
        "colab": {
          "base_uri": "https://localhost:8080/"
        },
        "id": "NVIwsBotCe9x",
        "outputId": "2ff610b0-1d95-4b8c-9b73-cff135269031"
      },
      "outputs": [
        {
          "output_type": "stream",
          "name": "stdout",
          "text": [
            "\u001b[33mWARNING: Ignoring invalid distribution ~vidia-cublas-cu12 (/usr/local/lib/python3.11/dist-packages)\u001b[0m\u001b[33m\n",
            "\u001b[0m\u001b[33mWARNING: Ignoring invalid distribution ~vidia-cublas-cu12 (/usr/local/lib/python3.11/dist-packages)\u001b[0m\u001b[33m\n",
            "\u001b[0m\u001b[33mWARNING: Ignoring invalid distribution ~vidia-cublas-cu12 (/usr/local/lib/python3.11/dist-packages)\u001b[0m\u001b[33m\n",
            "\u001b[0m\u001b[33mWARNING: Ignoring invalid distribution ~vidia-cublas-cu12 (/usr/local/lib/python3.11/dist-packages)\u001b[0m\u001b[33m\n",
            "\u001b[0m\u001b[33mWARNING: Ignoring invalid distribution ~vidia-cublas-cu12 (/usr/local/lib/python3.11/dist-packages)\u001b[0m\u001b[33m\n",
            "\u001b[0m\u001b[33mWARNING: Ignoring invalid distribution ~vidia-cublas-cu12 (/usr/local/lib/python3.11/dist-packages)\u001b[0m\u001b[33m\n",
            "\u001b[0m\u001b[33mWARNING: Ignoring invalid distribution ~vidia-cublas-cu12 (/usr/local/lib/python3.11/dist-packages)\u001b[0m\u001b[33m\n",
            "\u001b[0m\u001b[33mWARNING: Ignoring invalid distribution ~vidia-cublas-cu12 (/usr/local/lib/python3.11/dist-packages)\u001b[0m\u001b[33m\n",
            "\u001b[0mGenerated Hashtags: ['#AwarenessColonCancer', '#ColonCancer', '#ColonCancerEarly', '#RaisingAwarenessColon', '#TalksLeadingOncologists']\n"
          ]
        }
      ],
      "source": [
        "# ✅ Install required packages\n",
        "!pip install keybert -q\n",
        "!pip install -U sentence-transformers -q\n",
        "\n",
        "# ✅ Import libraries\n",
        "from keybert import KeyBERT\n",
        "import re\n",
        "\n",
        "# ✅ Load KeyBERT model\n",
        "kw_model = KeyBERT(model='all-MiniLM-L6-v2')\n",
        "\n",
        "# ✅ Clean and format keywords into hashtags (1–3 words per tag)\n",
        "def clean_keywords_to_hashtags(keywords, max_words_per_tag=3):\n",
        "    hashtags = []\n",
        "    for phrase in keywords:\n",
        "        words = re.findall(r'\\w+', phrase)\n",
        "        if 0 < len(words) <= max_words_per_tag:\n",
        "            tag = '#' + ''.join(word.capitalize() for word in words)\n",
        "            if tag not in hashtags:\n",
        "                hashtags.append(tag)\n",
        "    return hashtags\n",
        "\n",
        "# ✅ Hashtag generator using KeyBERT\n",
        "def generate_keybert_hashtags(paragraph, top_n=5):\n",
        "    keywords = kw_model.extract_keywords(\n",
        "        paragraph,\n",
        "        keyphrase_ngram_range=(1, 3),\n",
        "        stop_words='english',\n",
        "        top_n=top_n\n",
        "    )\n",
        "    keyword_phrases = [kw[0] for kw in keywords]\n",
        "    return clean_keywords_to_hashtags(keyword_phrases)\n",
        "\n",
        "# ✅ Example paragraph\n",
        "paragraph = \"\"\"\n",
        "The Oncology Department is pleased to host a seminar focused on raising awareness about colon cancer, its early detection, and advancements in treatment.\n",
        "This event aims to educate the public and healthcare professionals on the importance of timely screening, preventive measures, and supportive care.\n",
        "Featuring expert talks by leading oncologists and real-life experiences from survivors, the seminar will serve as a platform for knowledge sharing\n",
        "and community engagement. Attendees will have the opportunity to ask questions, access resources, and contribute to spreading awareness that could help save lives.\n",
        "\"\"\"\n",
        "\n",
        "# ✅ Generate hashtags\n",
        "hashtags = generate_keybert_hashtags(paragraph)\n",
        "\n",
        "# ✅ Show results\n",
        "print(\"Generated Hashtags:\", hashtags)\n"
      ]
    }
  ]
}